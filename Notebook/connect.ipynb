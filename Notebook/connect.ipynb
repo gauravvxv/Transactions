{
 "cells": [
  {
   "cell_type": "markdown",
   "id": "e4ba4990",
   "metadata": {},
   "source": [
    "# Import CSV file to PostgreSQL"
   ]
  },
  {
   "cell_type": "code",
   "execution_count": 20,
   "id": "4ed9155c",
   "metadata": {},
   "outputs": [
    {
     "name": "stdout",
     "output_type": "stream",
     "text": [
      "Requirement already satisfied: pandas in c:\\users\\ankit\\anaconda3\\lib\\site-packages (2.2.2)\n",
      "Requirement already satisfied: numpy>=1.26.0 in c:\\users\\ankit\\anaconda3\\lib\\site-packages (from pandas) (1.26.4)\n",
      "Requirement already satisfied: python-dateutil>=2.8.2 in c:\\users\\ankit\\anaconda3\\lib\\site-packages (from pandas) (2.9.0.post0)\n",
      "Requirement already satisfied: pytz>=2020.1 in c:\\users\\ankit\\anaconda3\\lib\\site-packages (from pandas) (2024.1)\n",
      "Requirement already satisfied: tzdata>=2022.7 in c:\\users\\ankit\\anaconda3\\lib\\site-packages (from pandas) (2023.3)\n",
      "Requirement already satisfied: six>=1.5 in c:\\users\\ankit\\anaconda3\\lib\\site-packages (from python-dateutil>=2.8.2->pandas) (1.16.0)\n",
      "Requirement already satisfied: sqlalchemy in c:\\users\\ankit\\anaconda3\\lib\\site-packages (2.0.34)\n",
      "Requirement already satisfied: typing-extensions>=4.6.0 in c:\\users\\ankit\\anaconda3\\lib\\site-packages (from sqlalchemy) (4.11.0)\n",
      "Requirement already satisfied: greenlet!=0.4.17 in c:\\users\\ankit\\anaconda3\\lib\\site-packages (from sqlalchemy) (3.0.1)\n",
      "Requirement already satisfied: python-dotenv in c:\\users\\ankit\\anaconda3\\lib\\site-packages (0.21.0)\n",
      "Requirement already satisfied: psycopg2 in c:\\users\\ankit\\anaconda3\\lib\\site-packages (2.9.10)\n"
     ]
    }
   ],
   "source": [
    "!pip install pandas\n",
    "!pip install sqlalchemy\n",
    "!pip install python-dotenv psycopg2"
   ]
  },
  {
   "cell_type": "code",
   "execution_count": 22,
   "id": "32447845",
   "metadata": {},
   "outputs": [],
   "source": [
    "import pandas as pd\n",
    "from sqlalchemy import create_engine\n",
    "from dotenv import load_dotenv\n",
    "import psycopg2\n",
    "import os"
   ]
  },
  {
   "cell_type": "code",
   "execution_count": 6,
   "id": "f4f306a4",
   "metadata": {},
   "outputs": [],
   "source": [
    "df = pd.read_csv('../Data/ecommerce_transactions.csv')"
   ]
  },
  {
   "cell_type": "code",
   "execution_count": 7,
   "id": "213902e1",
   "metadata": {},
   "outputs": [
    {
     "data": {
      "text/html": [
       "<div>\n",
       "<style scoped>\n",
       "    .dataframe tbody tr th:only-of-type {\n",
       "        vertical-align: middle;\n",
       "    }\n",
       "\n",
       "    .dataframe tbody tr th {\n",
       "        vertical-align: top;\n",
       "    }\n",
       "\n",
       "    .dataframe thead th {\n",
       "        text-align: right;\n",
       "    }\n",
       "</style>\n",
       "<table border=\"1\" class=\"dataframe\">\n",
       "  <thead>\n",
       "    <tr style=\"text-align: right;\">\n",
       "      <th></th>\n",
       "      <th>Transaction_ID</th>\n",
       "      <th>User_Name</th>\n",
       "      <th>Age</th>\n",
       "      <th>Country</th>\n",
       "      <th>Product_Category</th>\n",
       "      <th>Purchase_Amount</th>\n",
       "      <th>Payment_Method</th>\n",
       "      <th>Transaction_Date</th>\n",
       "    </tr>\n",
       "  </thead>\n",
       "  <tbody>\n",
       "    <tr>\n",
       "      <th>0</th>\n",
       "      <td>1</td>\n",
       "      <td>Ava Hall</td>\n",
       "      <td>63</td>\n",
       "      <td>Mexico</td>\n",
       "      <td>Clothing</td>\n",
       "      <td>780.69</td>\n",
       "      <td>Debit Card</td>\n",
       "      <td>2023-04-14</td>\n",
       "    </tr>\n",
       "    <tr>\n",
       "      <th>1</th>\n",
       "      <td>2</td>\n",
       "      <td>Sophia Hall</td>\n",
       "      <td>59</td>\n",
       "      <td>India</td>\n",
       "      <td>Beauty</td>\n",
       "      <td>738.56</td>\n",
       "      <td>PayPal</td>\n",
       "      <td>2023-07-30</td>\n",
       "    </tr>\n",
       "    <tr>\n",
       "      <th>2</th>\n",
       "      <td>3</td>\n",
       "      <td>Elijah Thompson</td>\n",
       "      <td>26</td>\n",
       "      <td>France</td>\n",
       "      <td>Books</td>\n",
       "      <td>178.34</td>\n",
       "      <td>Credit Card</td>\n",
       "      <td>2023-09-17</td>\n",
       "    </tr>\n",
       "    <tr>\n",
       "      <th>3</th>\n",
       "      <td>4</td>\n",
       "      <td>Elijah White</td>\n",
       "      <td>43</td>\n",
       "      <td>Mexico</td>\n",
       "      <td>Sports</td>\n",
       "      <td>401.09</td>\n",
       "      <td>UPI</td>\n",
       "      <td>2023-06-21</td>\n",
       "    </tr>\n",
       "    <tr>\n",
       "      <th>4</th>\n",
       "      <td>5</td>\n",
       "      <td>Ava Harris</td>\n",
       "      <td>48</td>\n",
       "      <td>Germany</td>\n",
       "      <td>Beauty</td>\n",
       "      <td>594.83</td>\n",
       "      <td>Net Banking</td>\n",
       "      <td>2024-10-29</td>\n",
       "    </tr>\n",
       "  </tbody>\n",
       "</table>\n",
       "</div>"
      ],
      "text/plain": [
       "   Transaction_ID        User_Name  Age  Country Product_Category  \\\n",
       "0               1         Ava Hall   63   Mexico         Clothing   \n",
       "1               2      Sophia Hall   59    India           Beauty   \n",
       "2               3  Elijah Thompson   26   France            Books   \n",
       "3               4     Elijah White   43   Mexico           Sports   \n",
       "4               5       Ava Harris   48  Germany           Beauty   \n",
       "\n",
       "   Purchase_Amount Payment_Method Transaction_Date  \n",
       "0           780.69     Debit Card       2023-04-14  \n",
       "1           738.56         PayPal       2023-07-30  \n",
       "2           178.34    Credit Card       2023-09-17  \n",
       "3           401.09            UPI       2023-06-21  \n",
       "4           594.83    Net Banking       2024-10-29  "
      ]
     },
     "execution_count": 7,
     "metadata": {},
     "output_type": "execute_result"
    }
   ],
   "source": [
    "df.head()"
   ]
  },
  {
   "cell_type": "code",
   "execution_count": 15,
   "id": "e34134ad",
   "metadata": {},
   "outputs": [],
   "source": [
    "df.columns = df.columns.str.lower()"
   ]
  },
  {
   "cell_type": "code",
   "execution_count": 29,
   "id": "9b73458c",
   "metadata": {},
   "outputs": [
    {
     "data": {
      "text/plain": [
       "True"
      ]
     },
     "execution_count": 29,
     "metadata": {},
     "output_type": "execute_result"
    }
   ],
   "source": [
    "load_dotenv()"
   ]
  },
  {
   "cell_type": "code",
   "execution_count": 33,
   "id": "f23483bf",
   "metadata": {},
   "outputs": [],
   "source": [
    "db_url  = os.getenv('URL')"
   ]
  },
  {
   "cell_type": "code",
   "execution_count": 31,
   "id": "e0c9c8fc",
   "metadata": {},
   "outputs": [],
   "source": [
    "engine = create_engine(db_url)"
   ]
  },
  {
   "cell_type": "code",
   "execution_count": 32,
   "id": "34dbdcf4",
   "metadata": {},
   "outputs": [
    {
     "data": {
      "text/plain": [
       "1000"
      ]
     },
     "execution_count": 32,
     "metadata": {},
     "output_type": "execute_result"
    }
   ],
   "source": [
    "df.to_sql('transaction',engine,if_exists='replace',index=False)"
   ]
  }
 ],
 "metadata": {
  "kernelspec": {
   "display_name": "base",
   "language": "python",
   "name": "python3"
  },
  "language_info": {
   "codemirror_mode": {
    "name": "ipython",
    "version": 3
   },
   "file_extension": ".py",
   "mimetype": "text/x-python",
   "name": "python",
   "nbconvert_exporter": "python",
   "pygments_lexer": "ipython3",
   "version": "3.12.7"
  }
 },
 "nbformat": 4,
 "nbformat_minor": 5
}
